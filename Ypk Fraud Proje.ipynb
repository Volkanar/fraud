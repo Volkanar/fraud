{
 "cells": [
  {
   "cell_type": "code",
   "execution_count": 2,
   "metadata": {},
   "outputs": [],
   "source": [
    "import pandas as pd\n",
    "import numpy as np\n",
    "from sklearn.metrics import roc_auc_score\n",
    "from datetime import *\n",
    "from imblearn.under_sampling import RandomUnderSampler\n",
    "from sklearn.metrics import confusion_matrix\n",
    "from sklearn.model_selection import train_test_split\n",
    "from sklearn.linear_model import LogisticRegression\n",
    "from sklearn.metrics import roc_curve\n",
    "from matplotlib import pyplot\n",
    "from imblearn.over_sampling import RandomOverSampler \n",
    "from sklearn.metrics import classification_report\n",
    "from sklearn.metrics import accuracy_score\n",
    "from sklearn.ensemble import RandomForestClassifier\n",
    "import seaborn as sns"
   ]
  },
  {
   "cell_type": "code",
   "execution_count": 3,
   "metadata": {},
   "outputs": [],
   "source": [
    "df_train=pd.read_csv(r\"C:\\Users\\Volkan ARIKAN\\Desktop\\Yeni klasör\\datasets\\train.csv\")\n",
    "df_test=pd.read_csv(r\"C:\\Users\\Volkan ARIKAN\\Desktop\\Yeni klasör\\datasets\\test.csv\")"
   ]
  },
  {
   "cell_type": "code",
   "execution_count": 55,
   "metadata": {},
   "outputs": [
    {
     "data": {
      "text/html": [
       "<div>\n",
       "<style scoped>\n",
       "    .dataframe tbody tr th:only-of-type {\n",
       "        vertical-align: middle;\n",
       "    }\n",
       "\n",
       "    .dataframe tbody tr th {\n",
       "        vertical-align: top;\n",
       "    }\n",
       "\n",
       "    .dataframe thead th {\n",
       "        text-align: right;\n",
       "    }\n",
       "</style>\n",
       "<table border=\"1\" class=\"dataframe\">\n",
       "  <thead>\n",
       "    <tr style=\"text-align: right;\">\n",
       "      <th></th>\n",
       "      <th>day</th>\n",
       "      <th>feature0</th>\n",
       "      <th>feature1</th>\n",
       "      <th>feature2</th>\n",
       "      <th>feature3</th>\n",
       "      <th>feature4</th>\n",
       "      <th>feature5</th>\n",
       "      <th>feature6</th>\n",
       "      <th>feature7</th>\n",
       "      <th>feature8</th>\n",
       "      <th>...</th>\n",
       "      <th>feature17</th>\n",
       "      <th>feature18</th>\n",
       "      <th>feature19</th>\n",
       "      <th>feature20</th>\n",
       "      <th>feature21</th>\n",
       "      <th>feature22</th>\n",
       "      <th>feature23</th>\n",
       "      <th>label</th>\n",
       "      <th>scaled_amount</th>\n",
       "      <th>scaled_time</th>\n",
       "    </tr>\n",
       "  </thead>\n",
       "  <tbody>\n",
       "    <tr>\n",
       "      <td>count</td>\n",
       "      <td>1.593096e+06</td>\n",
       "      <td>1.593096e+06</td>\n",
       "      <td>1.593096e+06</td>\n",
       "      <td>1.593096e+06</td>\n",
       "      <td>1.593096e+06</td>\n",
       "      <td>1.593096e+06</td>\n",
       "      <td>1.593096e+06</td>\n",
       "      <td>1.593096e+06</td>\n",
       "      <td>1.593096e+06</td>\n",
       "      <td>1.593096e+06</td>\n",
       "      <td>...</td>\n",
       "      <td>1.593096e+06</td>\n",
       "      <td>1.593096e+06</td>\n",
       "      <td>1.593096e+06</td>\n",
       "      <td>1.593096e+06</td>\n",
       "      <td>1.593096e+06</td>\n",
       "      <td>1.593096e+06</td>\n",
       "      <td>1.593096e+06</td>\n",
       "      <td>1.593096e+06</td>\n",
       "      <td>1.593096e+06</td>\n",
       "      <td>1.593096e+06</td>\n",
       "    </tr>\n",
       "    <tr>\n",
       "      <td>mean</td>\n",
       "      <td>1.006955e+01</td>\n",
       "      <td>6.689955e-01</td>\n",
       "      <td>-3.862559e-01</td>\n",
       "      <td>-4.647123e+00</td>\n",
       "      <td>1.209814e+00</td>\n",
       "      <td>-1.087373e+00</td>\n",
       "      <td>-2.398188e+00</td>\n",
       "      <td>-2.915917e+00</td>\n",
       "      <td>8.284381e-01</td>\n",
       "      <td>7.462028e-01</td>\n",
       "      <td>...</td>\n",
       "      <td>5.521867e-02</td>\n",
       "      <td>-2.048757e-02</td>\n",
       "      <td>2.534302e-04</td>\n",
       "      <td>3.582746e-02</td>\n",
       "      <td>-3.571109e-03</td>\n",
       "      <td>1.584437e-03</td>\n",
       "      <td>-1.953650e-05</td>\n",
       "      <td>7.488563e-04</td>\n",
       "      <td>1.578079e+00</td>\n",
       "      <td>-1.523028e-02</td>\n",
       "    </tr>\n",
       "    <tr>\n",
       "      <td>std</td>\n",
       "      <td>5.853351e+00</td>\n",
       "      <td>2.249707e-01</td>\n",
       "      <td>6.595848e-01</td>\n",
       "      <td>2.607791e+02</td>\n",
       "      <td>1.463007e+02</td>\n",
       "      <td>8.255196e+01</td>\n",
       "      <td>7.013880e+01</td>\n",
       "      <td>2.116848e+01</td>\n",
       "      <td>1.192170e+01</td>\n",
       "      <td>5.657757e+00</td>\n",
       "      <td>...</td>\n",
       "      <td>4.918814e-01</td>\n",
       "      <td>3.608977e-01</td>\n",
       "      <td>2.998384e-01</td>\n",
       "      <td>2.904410e-01</td>\n",
       "      <td>8.767027e-02</td>\n",
       "      <td>1.865325e-02</td>\n",
       "      <td>6.387089e-03</td>\n",
       "      <td>2.735500e-02</td>\n",
       "      <td>1.471329e+01</td>\n",
       "      <td>7.152374e-01</td>\n",
       "    </tr>\n",
       "    <tr>\n",
       "      <td>min</td>\n",
       "      <td>1.000000e+00</td>\n",
       "      <td>-4.100204e+01</td>\n",
       "      <td>-7.071017e+00</td>\n",
       "      <td>-1.519452e+03</td>\n",
       "      <td>-4.193289e+02</td>\n",
       "      <td>-1.908663e+02</td>\n",
       "      <td>-2.911816e+02</td>\n",
       "      <td>-7.087614e+01</td>\n",
       "      <td>-2.863034e+02</td>\n",
       "      <td>-1.778125e+01</td>\n",
       "      <td>...</td>\n",
       "      <td>-1.757402e+00</td>\n",
       "      <td>-2.692235e+00</td>\n",
       "      <td>-2.175965e+00</td>\n",
       "      <td>-8.445086e-01</td>\n",
       "      <td>-2.840772e-01</td>\n",
       "      <td>-7.215892e-02</td>\n",
       "      <td>-9.998269e-01</td>\n",
       "      <td>0.000000e+00</td>\n",
       "      <td>-2.710985e-01</td>\n",
       "      <td>-1.799299e+00</td>\n",
       "    </tr>\n",
       "    <tr>\n",
       "      <td>25%</td>\n",
       "      <td>5.000000e+00</td>\n",
       "      <td>5.256317e-01</td>\n",
       "      <td>-1.013863e+00</td>\n",
       "      <td>-3.465603e+01</td>\n",
       "      <td>-6.311738e+01</td>\n",
       "      <td>-9.713920e+01</td>\n",
       "      <td>-3.556981e+01</td>\n",
       "      <td>-9.673077e+00</td>\n",
       "      <td>2.784891e+00</td>\n",
       "      <td>-3.780683e+00</td>\n",
       "      <td>...</td>\n",
       "      <td>-4.677066e-02</td>\n",
       "      <td>-2.189355e-01</td>\n",
       "      <td>-5.461611e-02</td>\n",
       "      <td>-8.266937e-02</td>\n",
       "      <td>-7.934346e-03</td>\n",
       "      <td>-1.473359e-03</td>\n",
       "      <td>-4.349443e-05</td>\n",
       "      <td>0.000000e+00</td>\n",
       "      <td>-1.725601e-01</td>\n",
       "      <td>-4.982669e-01</td>\n",
       "    </tr>\n",
       "    <tr>\n",
       "      <td>50%</td>\n",
       "      <td>1.000000e+01</td>\n",
       "      <td>5.827561e-01</td>\n",
       "      <td>-8.815242e-01</td>\n",
       "      <td>2.130413e+01</td>\n",
       "      <td>6.157632e+00</td>\n",
       "      <td>6.669652e+00</td>\n",
       "      <td>-1.004331e+01</td>\n",
       "      <td>-3.457910e+00</td>\n",
       "      <td>3.547478e+00</td>\n",
       "      <td>2.459764e+00</td>\n",
       "      <td>...</td>\n",
       "      <td>-6.147472e-03</td>\n",
       "      <td>-2.000902e-02</td>\n",
       "      <td>-7.095152e-03</td>\n",
       "      <td>-1.455591e-02</td>\n",
       "      <td>-2.584419e-03</td>\n",
       "      <td>1.143956e-03</td>\n",
       "      <td>-7.458098e-06</td>\n",
       "      <td>0.000000e+00</td>\n",
       "      <td>0.000000e+00</td>\n",
       "      <td>0.000000e+00</td>\n",
       "    </tr>\n",
       "    <tr>\n",
       "      <td>75%</td>\n",
       "      <td>1.500000e+01</td>\n",
       "      <td>7.408076e-01</td>\n",
       "      <td>3.221738e-01</td>\n",
       "      <td>1.150508e+02</td>\n",
       "      <td>1.292946e+02</td>\n",
       "      <td>7.122677e+01</td>\n",
       "      <td>4.867430e+01</td>\n",
       "      <td>-2.747842e+00</td>\n",
       "      <td>4.004814e+00</td>\n",
       "      <td>4.986462e+00</td>\n",
       "      <td>...</td>\n",
       "      <td>1.827838e-01</td>\n",
       "      <td>1.257709e-01</td>\n",
       "      <td>9.480538e-02</td>\n",
       "      <td>2.008575e-02</td>\n",
       "      <td>4.344108e-04</td>\n",
       "      <td>2.010147e-03</td>\n",
       "      <td>1.003685e-05</td>\n",
       "      <td>0.000000e+00</td>\n",
       "      <td>8.274399e-01</td>\n",
       "      <td>5.017331e-01</td>\n",
       "    </tr>\n",
       "    <tr>\n",
       "      <td>max</td>\n",
       "      <td>2.000000e+01</td>\n",
       "      <td>1.316803e+00</td>\n",
       "      <td>3.806139e-01</td>\n",
       "      <td>8.527823e+03</td>\n",
       "      <td>9.349109e+02</td>\n",
       "      <td>8.131643e+02</td>\n",
       "      <td>3.933989e+02</td>\n",
       "      <td>9.119850e+02</td>\n",
       "      <td>3.140034e+02</td>\n",
       "      <td>3.447934e+01</td>\n",
       "      <td>...</td>\n",
       "      <td>1.973987e+00</td>\n",
       "      <td>2.605600e+00</td>\n",
       "      <td>2.878023e+00</td>\n",
       "      <td>1.464760e+00</td>\n",
       "      <td>6.095311e-01</td>\n",
       "      <td>1.529016e-01</td>\n",
       "      <td>9.997212e-01</td>\n",
       "      <td>1.000000e+00</td>\n",
       "      <td>7.637636e+03</td>\n",
       "      <td>1.455881e+00</td>\n",
       "    </tr>\n",
       "  </tbody>\n",
       "</table>\n",
       "<p>8 rows × 28 columns</p>\n",
       "</div>"
      ],
      "text/plain": [
       "                day      feature0      feature1      feature2      feature3  \\\n",
       "count  1.593096e+06  1.593096e+06  1.593096e+06  1.593096e+06  1.593096e+06   \n",
       "mean   1.006955e+01  6.689955e-01 -3.862559e-01 -4.647123e+00  1.209814e+00   \n",
       "std    5.853351e+00  2.249707e-01  6.595848e-01  2.607791e+02  1.463007e+02   \n",
       "min    1.000000e+00 -4.100204e+01 -7.071017e+00 -1.519452e+03 -4.193289e+02   \n",
       "25%    5.000000e+00  5.256317e-01 -1.013863e+00 -3.465603e+01 -6.311738e+01   \n",
       "50%    1.000000e+01  5.827561e-01 -8.815242e-01  2.130413e+01  6.157632e+00   \n",
       "75%    1.500000e+01  7.408076e-01  3.221738e-01  1.150508e+02  1.292946e+02   \n",
       "max    2.000000e+01  1.316803e+00  3.806139e-01  8.527823e+03  9.349109e+02   \n",
       "\n",
       "           feature4      feature5      feature6      feature7      feature8  \\\n",
       "count  1.593096e+06  1.593096e+06  1.593096e+06  1.593096e+06  1.593096e+06   \n",
       "mean  -1.087373e+00 -2.398188e+00 -2.915917e+00  8.284381e-01  7.462028e-01   \n",
       "std    8.255196e+01  7.013880e+01  2.116848e+01  1.192170e+01  5.657757e+00   \n",
       "min   -1.908663e+02 -2.911816e+02 -7.087614e+01 -2.863034e+02 -1.778125e+01   \n",
       "25%   -9.713920e+01 -3.556981e+01 -9.673077e+00  2.784891e+00 -3.780683e+00   \n",
       "50%    6.669652e+00 -1.004331e+01 -3.457910e+00  3.547478e+00  2.459764e+00   \n",
       "75%    7.122677e+01  4.867430e+01 -2.747842e+00  4.004814e+00  4.986462e+00   \n",
       "max    8.131643e+02  3.933989e+02  9.119850e+02  3.140034e+02  3.447934e+01   \n",
       "\n",
       "       ...     feature17     feature18     feature19     feature20  \\\n",
       "count  ...  1.593096e+06  1.593096e+06  1.593096e+06  1.593096e+06   \n",
       "mean   ...  5.521867e-02 -2.048757e-02  2.534302e-04  3.582746e-02   \n",
       "std    ...  4.918814e-01  3.608977e-01  2.998384e-01  2.904410e-01   \n",
       "min    ... -1.757402e+00 -2.692235e+00 -2.175965e+00 -8.445086e-01   \n",
       "25%    ... -4.677066e-02 -2.189355e-01 -5.461611e-02 -8.266937e-02   \n",
       "50%    ... -6.147472e-03 -2.000902e-02 -7.095152e-03 -1.455591e-02   \n",
       "75%    ...  1.827838e-01  1.257709e-01  9.480538e-02  2.008575e-02   \n",
       "max    ...  1.973987e+00  2.605600e+00  2.878023e+00  1.464760e+00   \n",
       "\n",
       "          feature21     feature22     feature23         label  scaled_amount  \\\n",
       "count  1.593096e+06  1.593096e+06  1.593096e+06  1.593096e+06   1.593096e+06   \n",
       "mean  -3.571109e-03  1.584437e-03 -1.953650e-05  7.488563e-04   1.578079e+00   \n",
       "std    8.767027e-02  1.865325e-02  6.387089e-03  2.735500e-02   1.471329e+01   \n",
       "min   -2.840772e-01 -7.215892e-02 -9.998269e-01  0.000000e+00  -2.710985e-01   \n",
       "25%   -7.934346e-03 -1.473359e-03 -4.349443e-05  0.000000e+00  -1.725601e-01   \n",
       "50%   -2.584419e-03  1.143956e-03 -7.458098e-06  0.000000e+00   0.000000e+00   \n",
       "75%    4.344108e-04  2.010147e-03  1.003685e-05  0.000000e+00   8.274399e-01   \n",
       "max    6.095311e-01  1.529016e-01  9.997212e-01  1.000000e+00   7.637636e+03   \n",
       "\n",
       "        scaled_time  \n",
       "count  1.593096e+06  \n",
       "mean  -1.523028e-02  \n",
       "std    7.152374e-01  \n",
       "min   -1.799299e+00  \n",
       "25%   -4.982669e-01  \n",
       "50%    0.000000e+00  \n",
       "75%    5.017331e-01  \n",
       "max    1.455881e+00  \n",
       "\n",
       "[8 rows x 28 columns]"
      ]
     },
     "execution_count": 55,
     "metadata": {},
     "output_type": "execute_result"
    }
   ],
   "source": [
    "df_train.describe()"
   ]
  },
  {
   "cell_type": "code",
   "execution_count": 56,
   "metadata": {},
   "outputs": [
    {
     "data": {
      "text/plain": [
       "0"
      ]
     },
     "execution_count": 56,
     "metadata": {},
     "output_type": "execute_result"
    }
   ],
   "source": [
    "df_train.isnull().sum().max()"
   ]
  },
  {
   "cell_type": "code",
   "execution_count": 57,
   "metadata": {},
   "outputs": [
    {
     "name": "stdout",
     "output_type": "stream",
     "text": [
      "No Frauds 99.93 % of the dataset\n",
      "Frauds 0.07 % of the dataset\n"
     ]
    }
   ],
   "source": [
    "print('No Frauds', round(df_train['label'].value_counts()[0]/len(df_train) * 100,2), '% of the dataset')\n",
    "print('Frauds', round(df_train['label'].value_counts()[1]/len(df_train) * 100,2), '% of the dataset')"
   ]
  },
  {
   "cell_type": "code",
   "execution_count": null,
   "metadata": {},
   "outputs": [],
   "source": [
    "fig, ax = plt.subplots(1, 2, figsize=(18,4))\n",
    "\n",
    "amount_val = df_train['amount'].values\n",
    "time_val = df_train['time'].values\n",
    "\n",
    "sns.distplot(amount_val, ax=ax[0], color='r')\n",
    "ax[0].set_title('Distribution of Transaction Amount', fontsize=14)\n",
    "ax[0].set_xlim([min(amount_val), max(amount_val)])\n",
    "\n",
    "sns.distplot(time_val, ax=ax[1], color='b')\n",
    "ax[1].set_title('Distribution of Transaction Time', fontsize=14)\n",
    "ax[1].set_xlim([min(time_val), max(time_val)])\n",
    "\n",
    "\n",
    "plt.show()"
   ]
  },
  {
   "cell_type": "code",
   "execution_count": 4,
   "metadata": {},
   "outputs": [],
   "source": [
    "import datetime\n",
    "df_train.time=pd.to_datetime(df_train['time'], format='%H:%M:%S')\n",
    "df_test.time=pd.to_datetime(df_test['time'], format='%H:%M:%S')"
   ]
  },
  {
   "cell_type": "code",
   "execution_count": 5,
   "metadata": {},
   "outputs": [],
   "source": [
    "my_list=[]\n",
    "for i in range(0,len(df_train.time)):\n",
    "    a=(df_train.time[i]-df_train.time[0]).total_seconds()\n",
    "    my_list.append(a)"
   ]
  },
  {
   "cell_type": "code",
   "execution_count": 6,
   "metadata": {},
   "outputs": [],
   "source": [
    "my_list2=[]\n",
    "for i in range(0,len(df_test.time)):\n",
    "    b=(df_test.time[i]-df_test.time[0]).total_seconds()\n",
    "    my_list2.append(b)"
   ]
  },
  {
   "cell_type": "code",
   "execution_count": 7,
   "metadata": {},
   "outputs": [],
   "source": [
    "df_train[\"elapsed_secs\"]=my_list\n",
    "df_test[\"elapsed_secs\"]=my_list2"
   ]
  },
  {
   "cell_type": "code",
   "execution_count": 11,
   "metadata": {},
   "outputs": [
    {
     "name": "stdout",
     "output_type": "stream",
     "text": [
      "feature0 -100.77337914536936\n",
      "feature1 170.0905206896437\n",
      "feature2 -4.647122780495813\n",
      "feature3 1.2098141704593088\n",
      "feature4 -1.087373010949895\n",
      "feature5 -2.398187988603559\n",
      "feature6 -2.9159172873374692\n",
      "feature7 0.8284381087704208\n",
      "feature8 0.7462028485538434\n",
      "feature9 -0.39558194193272\n",
      "feature10 -0.040701958784969086\n",
      "feature11 0.25451780009725034\n",
      "feature12 0.07549149820402865\n",
      "feature13 -0.16156888411205234\n",
      "feature14 -0.02028525811044344\n",
      "feature15 0.02707089781199107\n",
      "feature16 -0.012861047133826905\n",
      "feature17 0.055218673391995286\n",
      "feature18 -0.0204875725059596\n",
      "feature19 0.0002534301897225497\n",
      "feature20 0.03582746082936393\n",
      "feature21 -0.0035711090371229447\n",
      "feature22 0.0015844366433880402\n",
      "feature23 -1.953649702806689e-05\n"
     ]
    }
   ],
   "source": [
    "for i in df_train.columns[5:-2]:\n",
    "    print(i, df_train[i].mean())"
   ]
  },
  {
   "cell_type": "code",
   "execution_count": 18,
   "metadata": {
    "scrolled": true
   },
   "outputs": [
    {
     "data": {
      "text/plain": [
       "<matplotlib.axes._subplots.AxesSubplot at 0x193020aba88>"
      ]
     },
     "execution_count": 18,
     "metadata": {},
     "output_type": "execute_result"
    },
    {
     "data": {
      "image/png": "[encoded data removed]",
      "text/plain": [
       "<Figure size 432x288 with 1 Axes>"
      ]
     },
     "metadata": {
      "needs_background": "light"
     },
     "output_type": "display_data"
    }
   ],
   "source": [
    "sns.distplot(df_train[\"feature0\"],fit=norm)"
   ]
  },
  {
   "cell_type": "code",
   "execution_count": 19,
   "metadata": {},
   "outputs": [
    {
     "data": {
      "text/plain": [
       "<matplotlib.axes._subplots.AxesSubplot at 0x19315886b48>"
      ]
     },
     "execution_count": 19,
     "metadata": {},
     "output_type": "execute_result"
    },
    {
     "data": {
      "image/png": "[encoded data removed]",
      "text/plain": [
       "<Figure size 432x288 with 1 Axes>"
      ]
     },
     "metadata": {
      "needs_background": "light"
     },
     "output_type": "display_data"
    }
   ],
   "source": [
    "sns.distplot(df_train[\"feature1\"],fit=norm)"
   ]
  },
  {
   "cell_type": "code",
   "execution_count": 31,
   "metadata": {},
   "outputs": [],
   "source": [
    "from sklearn.preprocessing import StandardScaler, RobustScaler\n",
    "\n",
    "std_scaler = StandardScaler()\n",
    "rob_scaler = RobustScaler()\n",
    "\n",
    "df_train['scaled_amount'] = rob_scaler.fit_transform(df_train['amount'].values.reshape(-1,1))\n",
    "df_train['scaled_time'] = rob_scaler.fit_transform(df_train['elapsed_secs'].values.reshape(-1,1))\n",
    "df_train[\"feature0\"]=rob_scaler.fit_transform(df_train['feature0'].values.reshape(-1,1))\n",
    "df_train[\"feature1\"]=rob_scaler.fit_transform(df_train['feature1'].values.reshape(-1,1))\n",
    "\n",
    "df_train.drop(['time','amount', 'elapsed_secs', 'transaction_id', 'card'], axis=1, inplace=True)\n",
    "\n",
    "\n",
    "df_test['scaled_amount'] = rob_scaler.fit_transform(df_test['amount'].values.reshape(-1,1))\n",
    "df_test['scaled_time'] = rob_scaler.fit_transform(df_test['elapsed_secs'].values.reshape(-1,1))\n",
    "df_test[\"feature0\"]=rob_scaler.fit_transform(df_test['feature0'].values.reshape(-1,1))\n",
    "df_test[\"feature1\"]=rob_scaler.fit_transform(df_test['feature1'].values.reshape(-1,1))\n",
    "\n",
    "df_test.drop(['time','amount', 'elapsed_secs', 'transaction_id', 'card'], axis=1, inplace=True)"
   ]
  },
  {
   "cell_type": "code",
   "execution_count": 32,
   "metadata": {},
   "outputs": [],
   "source": [
    "df_train[[\"label\"]] *= 1\n",
    "df_test[[\"label\"]] *= 1"
   ]
  },
  {
   "cell_type": "code",
   "execution_count": 33,
   "metadata": {},
   "outputs": [
    {
     "data": {
      "text/plain": [
       "<matplotlib.axes._subplots.AxesSubplot at 0x1931637de88>"
      ]
     },
     "execution_count": 33,
     "metadata": {},
     "output_type": "execute_result"
    },
    {
     "data": {
      "image/png": "[encoded data removed]",
      "text/plain": [
       "<Figure size 432x288 with 1 Axes>"
      ]
     },
     "metadata": {
      "needs_background": "light"
     },
     "output_type": "display_data"
    }
   ],
   "source": [
    "import scipy\n",
    "df_train['feature1'],fitted_lambda= scipy.stats.boxcox(df_train.feature1-df_train.feature1.min()+0.01 ,lmbda=None)\n",
    "sns.boxplot(df_train['feature1'])"
   ]
  },
  {
   "cell_type": "code",
   "execution_count": 34,
   "metadata": {
    "scrolled": true
   },
   "outputs": [
    {
     "data": {
      "text/plain": [
       "<matplotlib.axes._subplots.AxesSubplot at 0x193715f6408>"
      ]
     },
     "execution_count": 34,
     "metadata": {},
     "output_type": "execute_result"
    },
    {
     "data": {
      "image/png": "[encoded data removed]",
      "text/plain": [
       "<Figure size 432x288 with 1 Axes>"
      ]
     },
     "metadata": {
      "needs_background": "light"
     },
     "output_type": "display_data"
    }
   ],
   "source": [
    "sns.distplot(df_train.feature1,fit=norm, color='#FB8861')"
   ]
  },
  {
   "cell_type": "code",
   "execution_count": 35,
   "metadata": {},
   "outputs": [
    {
     "data": {
      "text/plain": [
       "<matplotlib.axes._subplots.AxesSubplot at 0x19315c4d188>"
      ]
     },
     "execution_count": 35,
     "metadata": {},
     "output_type": "execute_result"
    },
    {
     "data": {
      "image/png": "[encoded data removed]",
      "text/plain": [
       "<Figure size 432x288 with 1 Axes>"
      ]
     },
     "metadata": {
      "needs_background": "light"
     },
     "output_type": "display_data"
    }
   ],
   "source": [
    "sns.distplot(df_train.feature0,fit=norm, color='#FB8861')"
   ]
  },
  {
   "cell_type": "code",
   "execution_count": 36,
   "metadata": {},
   "outputs": [],
   "source": [
    "df_train['feature0'],fitted_lambda= scipy.stats.boxcox(df_train.feature0-df_train.feature0.min()+0.01 ,lmbda=None)"
   ]
  },
  {
   "cell_type": "code",
   "execution_count": 37,
   "metadata": {},
   "outputs": [
    {
     "data": {
      "text/plain": [
       "<matplotlib.axes._subplots.AxesSubplot at 0x19316d67a48>"
      ]
     },
     "execution_count": 37,
     "metadata": {},
     "output_type": "execute_result"
    },
    {
     "data": {
      "image/png": "[encoded data removed]",
      "text/plain": [
       "<Figure size 432x288 with 1 Axes>"
      ]
     },
     "metadata": {
      "needs_background": "light"
     },
     "output_type": "display_data"
    }
   ],
   "source": [
    "sns.distplot(df_train.feature0,fit=norm)"
   ]
  },
  {
   "cell_type": "code",
   "execution_count": 38,
   "metadata": {},
   "outputs": [],
   "source": [
    "X = df_train.drop(['label'], axis = 1)\n",
    "y = df_train.label"
   ]
  },
  {
   "cell_type": "code",
   "execution_count": 39,
   "metadata": {},
   "outputs": [],
   "source": [
    "from imblearn.over_sampling import SMOTE\n",
    "smote = SMOTE(sampling_strategy = 'minority')\n",
    "x_sm, y_sm = smote.fit_resample(X,y)"
   ]
  },
  {
   "cell_type": "code",
   "execution_count": 40,
   "metadata": {},
   "outputs": [],
   "source": [
    "Xt = df_test.drop(['label'], axis = 1)\n",
    "yt = df_test.label"
   ]
  },
  {
   "cell_type": "code",
   "execution_count": 42,
   "metadata": {
    "scrolled": true
   },
   "outputs": [
    {
     "name": "stderr",
     "output_type": "stream",
     "text": [
      "C:\\Users\\Volkan ARIKAN\\Anaconda3\\lib\\site-packages\\sklearn\\linear_model\\_logistic.py:764: ConvergenceWarning: lbfgs failed to converge (status=1):\n",
      "STOP: TOTAL NO. of ITERATIONS REACHED LIMIT.\n",
      "\n",
      "Increase the number of iterations (max_iter) or scale the data as shown in:\n",
      "    https://scikit-learn.org/stable/modules/preprocessing.html\n",
      "Please also refer to the documentation for alternative solver options:\n",
      "    https://scikit-learn.org/stable/modules/linear_model.html#logistic-regression\n",
      "  extra_warning_msg=_LOGISTIC_SOLVER_CONVERGENCE_MSG)\n"
     ]
    },
    {
     "data": {
      "text/plain": [
       "array([[764852,  37820],\n",
       "       [   396,    254]], dtype=int64)"
      ]
     },
     "execution_count": 42,
     "metadata": {},
     "output_type": "execute_result"
    }
   ],
   "source": [
    "model = LogisticRegression(random_state=0).fit(x_sm, y_sm)\n",
    "y_pred=model.predict(Xt)\n",
    "confusion_matrix(yt,y_pred)"
   ]
  },
  {
   "cell_type": "code",
   "execution_count": 45,
   "metadata": {
    "scrolled": true
   },
   "outputs": [
    {
     "name": "stdout",
     "output_type": "stream",
     "text": [
      "0.0 1234.88\n",
      "0.01 1049.3152\n",
      "0.02 925.1071428571429\n",
      "0.03 771.0212418300654\n",
      "0.04 700.2305084745763\n",
      "0.05 620.3031358885017\n",
      "0.06 550.481684981685\n",
      "0.07 492.99808429118775\n",
      "0.08 442.85854616895875\n",
      "0.09 395.86653386454185\n",
      "0.1 355.1460446247464\n",
      "0.11 326.0741525423729\n",
      "0.12 292.44967880085653\n",
      "0.13 270.14977973568284\n",
      "0.14 257.53333333333336\n",
      "0.15 254.375\n",
      "0.16 244.90656565656565\n",
      "0.17 233.28826530612244\n",
      "0.18 223.4315245478036\n",
      "0.19 219.75871313672923\n",
      "0.2 211.9291553133515\n",
      "0.21 201.99455040871933\n",
      "0.22 193.85558583106268\n",
      "0.23 188.65384615384616\n",
      "0.24 183.12637362637363\n",
      "0.25 180.595567867036\n",
      "0.26 180.55211267605634\n",
      "0.27 178.94617563739376\n",
      "0.28 179.3793103448276\n",
      "0.29 177.36494252873564\n",
      "0.3 175.20114942528735\n",
      "0.31 173.71676300578034\n",
      "0.32 170.89884393063585\n",
      "0.33 167.55780346820808\n",
      "0.34 165.44476744186048\n",
      "0.35000000000000003 164.12058823529412\n",
      "0.36 163.17910447761193\n",
      "0.37 160.64864864864865\n",
      "0.38 157.85800604229607\n",
      "0.39 155.97859327217125\n",
      "0.4 155.0\n",
      "0.41000000000000003 154.66134185303514\n",
      "0.42 155.5115511551155\n",
      "0.43 157.3664383561644\n",
      "0.44 156.33797909407664\n",
      "0.45 155.06028368794327\n",
      "0.46 154.07581227436822\n",
      "0.47000000000000003 154.33085501858736\n",
      "0.48 152.11320754716982\n",
      "0.49 150.40384615384616\n",
      "0.5 148.89763779527559\n",
      "0.51 144.07874015748033\n",
      "0.52 140.36653386454182\n",
      "0.53 141.775\n",
      "0.54 142.4608695652174\n",
      "0.55 138.21929824561403\n",
      "0.56 138.0\n",
      "0.5700000000000001 134.39449541284404\n",
      "0.58 137.69756097560975\n",
      "0.59 141.90104166666666\n",
      "0.6 141.2972972972973\n",
      "0.61 142.3068181818182\n",
      "0.62 141.97619047619048\n",
      "0.63 139.85185185185185\n",
      "0.64 135.60377358490567\n",
      "0.65 134.72185430463577\n",
      "0.66 143.27611940298507\n",
      "0.67 144.008\n",
      "0.68 138.48760330578511\n",
      "0.6900000000000001 135.82608695652175\n",
      "0.7000000000000001 143.36633663366337\n",
      "0.71 140.0625\n",
      "0.72 163.53947368421052\n",
      "0.73 160.95774647887325\n",
      "0.74 174.11666666666667\n",
      "0.75 182.78846153846155\n",
      "0.76 171.84\n",
      "0.77 170.64444444444445\n",
      "0.78 167.1951219512195\n",
      "0.79 154.07692307692307\n",
      "0.8 131.07692307692307\n",
      "0.81 113.65789473684211\n",
      "0.8200000000000001 92.5\n",
      "0.8300000000000001 79.55555555555556\n",
      "0.84 66.05882352941177\n",
      "0.85 62.92857142857143\n",
      "0.86 45.82142857142857\n",
      "0.87 36.107142857142854\n",
      "0.88 36.04545454545455\n",
      "0.89 28.636363636363637\n",
      "0.9 23.318181818181817\n",
      "0.91 25.75\n",
      "0.92 25.5\n",
      "0.93 22.928571428571427\n",
      "0.9400000000000001 20.642857142857142\n",
      "0.9500000000000001 21.333333333333332\n",
      "0.96 19.916666666666668\n"
     ]
    },
    {
     "name": "stderr",
     "output_type": "stream",
     "text": [
      "C:\\Users\\Volkan ARIKAN\\Anaconda3\\lib\\site-packages\\ipykernel_launcher.py:5: RuntimeWarning: divide by zero encountered in longlong_scalars\n",
      "  \"\"\"\n"
     ]
    },
    {
     "name": "stdout",
     "output_type": "stream",
     "text": [
      "0.97 inf\n"
     ]
    },
    {
     "name": "stderr",
     "output_type": "stream",
     "text": [
      "C:\\Users\\Volkan ARIKAN\\Anaconda3\\lib\\site-packages\\ipykernel_launcher.py:5: RuntimeWarning: divide by zero encountered in longlong_scalars\n",
      "  \"\"\"\n"
     ]
    },
    {
     "name": "stdout",
     "output_type": "stream",
     "text": [
      "0.98 inf\n",
      "0.99 inf\n"
     ]
    },
    {
     "name": "stderr",
     "output_type": "stream",
     "text": [
      "C:\\Users\\Volkan ARIKAN\\Anaconda3\\lib\\site-packages\\ipykernel_launcher.py:5: RuntimeWarning: divide by zero encountered in longlong_scalars\n",
      "  \"\"\"\n"
     ]
    }
   ],
   "source": [
    "tpr_list1=[]\n",
    "for i in np.arange(0, 1, 0.01):\n",
    "    y_pred1 = (model.predict_proba(Xt)[:,1] >= i).astype(bool)\n",
    "    tn, fp, fn, tp = confusion_matrix(yt, y_pred1).ravel()\n",
    "    tpr=fp/tp\n",
    "    tpr_list1.append(tpr)\n",
    "    print(i,tpr)"
   ]
  },
  {
   "cell_type": "code",
   "execution_count": 47,
   "metadata": {},
   "outputs": [
    {
     "data": {
      "text/plain": [
       "array([[802042,    630],\n",
       "       [   628,     22]], dtype=int64)"
      ]
     },
     "execution_count": 47,
     "metadata": {},
     "output_type": "execute_result"
    }
   ],
   "source": [
    "y_pred2 = (model.predict_proba(Xt)[:,1] >= 0.89).astype(bool)\n",
    "confusion_matrix(yt,y_pred2)"
   ]
  },
  {
   "cell_type": "code",
   "execution_count": 91,
   "metadata": {},
   "outputs": [],
   "source": [
    "tn, fp, fn, tp = confusion_matrix(yt, y_pred2).ravel()"
   ]
  },
  {
   "cell_type": "code",
   "execution_count": 92,
   "metadata": {},
   "outputs": [
    {
     "name": "stdout",
     "output_type": "stream",
     "text": [
      "0.033846153846153845\n"
     ]
    }
   ],
   "source": [
    "DR=tp/(tp+fn)\n",
    "print(DR)"
   ]
  },
  {
   "cell_type": "code",
   "execution_count": 52,
   "metadata": {},
   "outputs": [
    {
     "data": {
      "text/plain": [
       "Text(0, 0.5, 'TPR')"
      ]
     },
     "execution_count": 52,
     "metadata": {},
     "output_type": "execute_result"
    },
    {
     "data": {
      "image/png": "[encoded data removed]",
      "text/plain": [
       "<Figure size 432x288 with 1 Axes>"
      ]
     },
     "metadata": {
      "needs_background": "light"
     },
     "output_type": "display_data"
    }
   ],
   "source": [
    "from matplotlib import pyplot as plt\n",
    "plt.plot(np.arange(0, 1, 0.01),tpr_list1 ,marker='.')\n",
    "\n",
    "plt.xlabel(\"Thresholds\")\n",
    "plt.ylabel(\"TPR\")"
   ]
  },
  {
   "cell_type": "code",
   "execution_count": 53,
   "metadata": {},
   "outputs": [],
   "source": [
    "y_pred_final = model.predict_proba(Xt)"
   ]
  },
  {
   "cell_type": "code",
   "execution_count": 67,
   "metadata": {},
   "outputs": [],
   "source": [
    "df_test2=pd.read_csv(r\"C:\\Users\\Volkan ARIKAN\\Desktop\\Yeni klasör\\datasets\\test.csv\")"
   ]
  },
  {
   "cell_type": "code",
   "execution_count": 93,
   "metadata": {},
   "outputs": [],
   "source": [
    "df = pd.DataFrame(y_pred_final[:,1], columns=['score'])"
   ]
  },
  {
   "cell_type": "code",
   "execution_count": 94,
   "metadata": {
    "scrolled": true
   },
   "outputs": [],
   "source": [
    "df_final_scores=pd.concat([df_test2.transaction_id, df], axis=1)"
   ]
  },
  {
   "cell_type": "code",
   "execution_count": 95,
   "metadata": {},
   "outputs": [
    {
     "data": {
      "text/html": [
       "<div>\n",
       "<style scoped>\n",
       "    .dataframe tbody tr th:only-of-type {\n",
       "        vertical-align: middle;\n",
       "    }\n",
       "\n",
       "    .dataframe tbody tr th {\n",
       "        vertical-align: top;\n",
       "    }\n",
       "\n",
       "    .dataframe thead th {\n",
       "        text-align: right;\n",
       "    }\n",
       "</style>\n",
       "<table border=\"1\" class=\"dataframe\">\n",
       "  <thead>\n",
       "    <tr style=\"text-align: right;\">\n",
       "      <th></th>\n",
       "      <th>transaction_id</th>\n",
       "      <th>score</th>\n",
       "    </tr>\n",
       "  </thead>\n",
       "  <tbody>\n",
       "    <tr>\n",
       "      <td>0</td>\n",
       "      <td>1488269</td>\n",
       "      <td>0.096996</td>\n",
       "    </tr>\n",
       "    <tr>\n",
       "      <td>1</td>\n",
       "      <td>1488270</td>\n",
       "      <td>0.100812</td>\n",
       "    </tr>\n",
       "    <tr>\n",
       "      <td>2</td>\n",
       "      <td>1488271</td>\n",
       "      <td>0.176148</td>\n",
       "    </tr>\n",
       "    <tr>\n",
       "      <td>3</td>\n",
       "      <td>1488272</td>\n",
       "      <td>0.663338</td>\n",
       "    </tr>\n",
       "    <tr>\n",
       "      <td>4</td>\n",
       "      <td>1488273</td>\n",
       "      <td>0.663351</td>\n",
       "    </tr>\n",
       "  </tbody>\n",
       "</table>\n",
       "</div>"
      ],
      "text/plain": [
       "   transaction_id     score\n",
       "0         1488269  0.096996\n",
       "1         1488270  0.100812\n",
       "2         1488271  0.176148\n",
       "3         1488272  0.663338\n",
       "4         1488273  0.663351"
      ]
     },
     "execution_count": 95,
     "metadata": {},
     "output_type": "execute_result"
    }
   ],
   "source": [
    "df_final_scores.head()"
   ]
  },
  {
   "cell_type": "code",
   "execution_count": null,
   "metadata": {},
   "outputs": [],
   "source": []
  }
 ],
 "metadata": {
  "kernelspec": {
   "display_name": "Python 3",
   "language": "python",
   "name": "python3"
  },
  "language_info": {
   "codemirror_mode": {
    "name": "ipython",
    "version": 3
   },
   "file_extension": ".py",
   "mimetype": "text/x-python",
   "name": "python",
   "nbconvert_exporter": "python",
   "pygments_lexer": "ipython3",
   "version": "3.7.4"
  }
 },
 "nbformat": 4,
 "nbformat_minor": 2
}
